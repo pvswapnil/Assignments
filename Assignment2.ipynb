{
 "cells": [
  {
   "cell_type": "code",
   "execution_count": null,
   "metadata": {},
   "outputs": [],
   "source": [
    "#Write a Python Program to implement your own myreduce() function which works exactly like Python's built-in function reduce()"
   ]
  },
  {
   "cell_type": "code",
   "execution_count": 14,
   "metadata": {},
   "outputs": [
    {
     "name": "stdout",
     "output_type": "stream",
     "text": [
      "Enter number of elements : 2\n",
      "1\n",
      "2\n",
      "The result is 2\n"
     ]
    }
   ],
   "source": [
    "# my reduce function\n",
    "def myreduce(fnc, seq):\n",
    "    output = seq[0]\n",
    "    for next in seq[1:]:\n",
    "        output = fnc(output, next)\n",
    "        print(\"The result is\",output)\n",
    "           \n",
    "# creating an empty list \n",
    "list1 = [] \n",
    "  \n",
    "# number of elements as input \n",
    "n = int(input(\"Enter number of elements : \")) \n",
    "  \n",
    "# iterating till the range \n",
    "for i in range(0, n): \n",
    "    j = int(input()) \n",
    "  \n",
    "    list1.append(j) # adding the element \n",
    "    \n",
    "myreduce((lambda x,y: x*y),list1)"
   ]
  },
  {
   "cell_type": "code",
   "execution_count": 19,
   "metadata": {},
   "outputs": [],
   "source": [
    "#Write a Python program to implement your own myfilter() function which works exactly like Python's built-in function filter"
   ]
  },
  {
   "cell_type": "code",
   "execution_count": 13,
   "metadata": {},
   "outputs": [
    {
     "name": "stdout",
     "output_type": "stream",
     "text": [
      "Enter number of elements : 3\n",
      "0\n",
      "1\n",
      "2\n",
      "The result is:[1, 2]\n"
     ]
    }
   ],
   "source": [
    "# my Filter function\n",
    "def myfilter(fnc, seq):\n",
    "    output=[]\n",
    "    for next in seq[1:]:\n",
    "        i=fnc(next)\n",
    "        if i == True:\n",
    "            output.append(next)\n",
    "    print(\"The result is:\",end='')\n",
    "    print(list(output))\n",
    "           \n",
    "# creating an empty list \n",
    "list1 = [] \n",
    "  \n",
    "# number of elemetns as input \n",
    "n = int(input(\"Enter number of elements : \")) \n",
    "  \n",
    "# iterating till the range \n",
    "for i in range(0, n): \n",
    "    j = int(input()) \n",
    "  \n",
    "    list1.append(j) # adding the element \n",
    "    \n",
    "myfilter((lambda x: x>0),list1)"
   ]
  },
  {
   "cell_type": "code",
   "execution_count": null,
   "metadata": {},
   "outputs": [],
   "source": [
    "#Implement List comprehensions to produce the following lists. \n",
    " \n",
    "#Write List comprehensions to produce the following Lists "
   ]
  },
  {
   "cell_type": "code",
   "execution_count": null,
   "metadata": {},
   "outputs": [],
   "source": [
    "#['A', 'C', 'A', 'D', 'G', 'I', ’L’, ‘ D’] "
   ]
  },
  {
   "cell_type": "code",
   "execution_count": 1,
   "metadata": {},
   "outputs": [
    {
     "name": "stdout",
     "output_type": "stream",
     "text": [
      "The result is:['A', 'C', 'A', 'D', 'G', 'I', 'L', 'D']\n"
     ]
    }
   ],
   "source": [
    "Str1=\"ACADGILD\"\n",
    "\n",
    "List1=[i for i in Str]\n",
    "print(\"The result is:\",end='')\n",
    "print(List1)"
   ]
  },
  {
   "cell_type": "code",
   "execution_count": null,
   "metadata": {},
   "outputs": [],
   "source": [
    "#['x', 'xx', 'xxx', 'xxxx', 'y', 'yy', 'yyy', 'yyyy', 'z', 'zz', 'zzz', 'zzzz'] "
   ]
  },
  {
   "cell_type": "code",
   "execution_count": 6,
   "metadata": {},
   "outputs": [
    {
     "name": "stdout",
     "output_type": "stream",
     "text": [
      "The result is:['x', 'xx', 'xxx', 'xxxx', 'y', 'yy', 'yyy', 'yyyy', 'z', 'zz', 'zzz', 'zzzz']\n"
     ]
    }
   ],
   "source": [
    "List2=['x','y','z']\n",
    "\n",
    "List_output=[i*j for i in List2 for j in range(1,5)]\n",
    "print(\"The result is:\",end='')\n",
    "print(List_output)"
   ]
  },
  {
   "cell_type": "code",
   "execution_count": null,
   "metadata": {},
   "outputs": [],
   "source": [
    "#['x', 'y', 'z', 'xx', 'yy', 'zz', 'xx', 'yy', 'zz', 'xxxx', 'yyyy', 'zzzz'] "
   ]
  },
  {
   "cell_type": "code",
   "execution_count": 7,
   "metadata": {},
   "outputs": [
    {
     "name": "stdout",
     "output_type": "stream",
     "text": [
      "The result is:['x', 'y', 'z', 'xx', 'yy', 'zz', 'xxx', 'yyy', 'zzz', 'xxxx', 'yyyy', 'zzzz']\n"
     ]
    }
   ],
   "source": [
    "List3=['x','y','z']\n",
    "\n",
    "List_output=[i*j for i in range(1,5) for j in List2]\n",
    "print(\"The result is:\",end='')\n",
    "print(List_output)"
   ]
  },
  {
   "cell_type": "code",
   "execution_count": null,
   "metadata": {},
   "outputs": [],
   "source": [
    "#[[2], [3], [4], [3], [4], [5], [4], [5], [6]] "
   ]
  },
  {
   "cell_type": "code",
   "execution_count": 10,
   "metadata": {},
   "outputs": [
    {
     "name": "stdout",
     "output_type": "stream",
     "text": [
      "The result is:[[2], [3], [4], [3], [4], [5], [4], [5], [6]]\n"
     ]
    }
   ],
   "source": [
    "List4=[ [x+y+2] for x in range(0,3) for y in range(0,3)]\n",
    "print(\"The result is:\",end='')\n",
    "print(List4)"
   ]
  },
  {
   "cell_type": "code",
   "execution_count": null,
   "metadata": {},
   "outputs": [],
   "source": [
    "#[[2, 3, 4, 5], [3, 4, 5, 6], [4, 5, 6, 7], [5, 6, 7, 8]"
   ]
  },
  {
   "cell_type": "code",
   "execution_count": 14,
   "metadata": {},
   "outputs": [
    {
     "name": "stdout",
     "output_type": "stream",
     "text": [
      "The result is:[[2, 3, 4, 5], [3, 4, 5, 6], [4, 5, 6, 7], [5, 6, 7, 8]]\n"
     ]
    }
   ],
   "source": [
    "List5=[ [y+x+1 for x in range(0,4)] for y in range(1,5)]\n",
    "print(\"The result is:\",end='')\n",
    "print(List5)"
   ]
  },
  {
   "cell_type": "code",
   "execution_count": null,
   "metadata": {},
   "outputs": [],
   "source": [
    "#[(1, 1), (2, 1), (3, 1), (1, 2), (2, 2), (3, 2), (1, 3), (2, 3), (3, 3)]"
   ]
  },
  {
   "cell_type": "code",
   "execution_count": 17,
   "metadata": {},
   "outputs": [
    {
     "name": "stdout",
     "output_type": "stream",
     "text": [
      "The result is:[(1, 1), (1, 2), (1, 3), (2, 1), (2, 2), (2, 3), (3, 1), (3, 2), (3, 3)]\n"
     ]
    }
   ],
   "source": [
    "List6=[ (x,y) for x in range(1,4) for y in range(1,4)]\n",
    "print(\"The result is:\",end='')\n",
    "print(List6)"
   ]
  },
  {
   "cell_type": "code",
   "execution_count": null,
   "metadata": {},
   "outputs": [],
   "source": [
    "#Implement a function longestWord() that takes a list of words and returns the longest one."
   ]
  },
  {
   "cell_type": "code",
   "execution_count": 11,
   "metadata": {},
   "outputs": [
    {
     "name": "stdout",
     "output_type": "stream",
     "text": [
      "Enter the string:Lets do retrospective\n",
      "The longest word is:retrospective\n"
     ]
    }
   ],
   "source": [
    "#Define longest word function\n",
    "def longestword(token):\n",
    "    List1=token.split()\n",
    "    length=0\n",
    "    word=[]\n",
    "    for i in range(len(List1)):\n",
    "        if len(List1[i]) > length:\n",
    "            length=len(List1[i])\n",
    "            word=List1[i]\n",
    "    print(\"The longest word is:\",end='')\n",
    "    print(word)  \n",
    "        \n",
    "#input string from the user\n",
    "str=input(\"Enter the string:\")\n",
    "longestword(str)"
   ]
  },
  {
   "cell_type": "code",
   "execution_count": null,
   "metadata": {},
   "outputs": [],
   "source": [
    "#Write a Python Program(with class concepts) to find the area of the triangle using the below formula. \n",
    "#area = (s*(s-a)*(s-b)*(s-c)) ** 0.5 \n",
    "#Function to take the length of the sides of triangle from user should be defined in the parent \n",
    "#class and function to calculate the area should be defined in subclass."
   ]
  },
  {
   "cell_type": "code",
   "execution_count": 33,
   "metadata": {},
   "outputs": [],
   "source": [
    "class Sides():\n",
    "    def __init__(self,side1,side2,side3):\n",
    "        self.side1=side1\n",
    "        self.side2=side2\n",
    "        self.side3=side3\n",
    "        \n",
    "        \n",
    "    def AreaofTriangle(self):\n",
    "        self.s=(self.side1+self.side2+self.side3)/2\n",
    "        self.area=(self.s*(self.s-self.side1)*(self.s-self.side2)*(self.s-self.side3))**0.5\n",
    "        print(\"The area of the triangle is:\",end='')\n",
    "        print(round(self.area,2))"
   ]
  },
  {
   "cell_type": "code",
   "execution_count": 34,
   "metadata": {},
   "outputs": [
    {
     "name": "stdout",
     "output_type": "stream",
     "text": [
      "The area of the triangle is:2.9\n"
     ]
    }
   ],
   "source": [
    "output=Sides(2,3,4)\n",
    "output.AreaofTriangle()"
   ]
  },
  {
   "cell_type": "code",
   "execution_count": null,
   "metadata": {},
   "outputs": [],
   "source": [
    "#Write a function filter_long_words() that takes a list of words and an integer n and returns \n",
    "#the list of words that are longer than n. "
   ]
  },
  {
   "cell_type": "code",
   "execution_count": 12,
   "metadata": {},
   "outputs": [
    {
     "name": "stdout",
     "output_type": "stream",
     "text": [
      "Enter the string:today is Thursday\n",
      "Enter the no:2\n",
      "The words are:['today', 'Thursday']\n"
     ]
    }
   ],
   "source": [
    "#Define filter_words function\n",
    "def filter_words(token,x):\n",
    "    List1=token.split()\n",
    "    word=[]\n",
    "    for i in List1:\n",
    "        if len(i) > x:\n",
    "            word.append(i)\n",
    "    print(\"The words are:\",end='')\n",
    "    print(word)  \n",
    "        \n",
    "#input string from the user\n",
    "str1=input(\"Enter the string:\")\n",
    "n=int(input(\"Enter the no:\"))\n",
    "filter_words(str1,n)"
   ]
  },
  {
   "cell_type": "code",
   "execution_count": null,
   "metadata": {},
   "outputs": [],
   "source": [
    "#Write a Python program using function concept that maps  list of words into a list of integers representing\n",
    "#the lengths of the corresponding words"
   ]
  },
  {
   "cell_type": "code",
   "execution_count": 5,
   "metadata": {},
   "outputs": [
    {
     "name": "stdout",
     "output_type": "stream",
     "text": [
      "Enter the string:Hello world\n",
      "The words are:['Hello', 'world']\n",
      "The corresponding integers are :[5, 5]\n"
     ]
    }
   ],
   "source": [
    "#Define filter_words function\n",
    "def filter_words(token):\n",
    "    List1=token.split()\n",
    "    no=[]\n",
    "    for i in List1:\n",
    "        no.append(len(i)) \n",
    "        \n",
    "    print(\"The words are:\",end='')\n",
    "    print(List1)\n",
    "    print(\"The corresponding integers are :\",end='')\n",
    "    print(no)\n",
    "    \n",
    "#input string from the user\n",
    "str1=input(\"Enter the string:\")\n",
    "filter_words(str1)"
   ]
  },
  {
   "cell_type": "code",
   "execution_count": null,
   "metadata": {},
   "outputs": [],
   "source": [
    "#Write a Python function which takes a character (i.e. a string of length 1) \n",
    "#and returns True if it is a vowel, False otherwise. "
   ]
  },
  {
   "cell_type": "code",
   "execution_count": 10,
   "metadata": {},
   "outputs": [
    {
     "name": "stdout",
     "output_type": "stream",
     "text": [
      "Enter a character:b\n",
      "The entered character is not a vowel\n"
     ]
    }
   ],
   "source": [
    "#define checkvowel function\n",
    "\n",
    "def checkvowel(char):\n",
    "    str1=['a','e','i','o','u']\n",
    "    for i in str1:\n",
    "        if i==char:\n",
    "            print(\"The entered character is a vowel\")\n",
    "            break\n",
    "    else:\n",
    "        print(\"The entered character is not a vowel\")\n",
    "\n",
    "#input a character from the user\n",
    "charc=input(\"Enter a character:\")\n",
    "checkvowel(charc)"
   ]
  }
 ],
 "metadata": {
  "kernelspec": {
   "display_name": "Python 3",
   "language": "python",
   "name": "python3"
  },
  "language_info": {
   "codemirror_mode": {
    "name": "ipython",
    "version": 3
   },
   "file_extension": ".py",
   "mimetype": "text/x-python",
   "name": "python",
   "nbconvert_exporter": "python",
   "pygments_lexer": "ipython3",
   "version": "3.7.4"
  }
 },
 "nbformat": 4,
 "nbformat_minor": 2
}
